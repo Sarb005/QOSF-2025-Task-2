{
  "nbformat": 4,
  "nbformat_minor": 0,
  "metadata": {
    "colab": {
      "provenance": []
    },
    "kernelspec": {
      "name": "python3",
      "display_name": "Python 3"
    },
    "language_info": {
      "name": "python"
    }
  },
  "cells": [
    {
      "cell_type": "markdown",
      "source": [
        "# **Understanding Qubit States: From Single to Multi-Qubit Systems**\n",
        "\n",
        "\n",
        "\n",
        "---\n",
        "\n",
        "## **1. The Single Qubit State**\n",
        "\n",
        "A single qubit is the fundamental unit of quantum information. Its state exists within a 2-dimensional complex Hilbert space, denoted as $\\mathcal{H}_2$.\n",
        "\n",
        "### **State Vector**\n",
        "The state of a single qubit, $|\\psi\\rangle$, can be expressed as a linear superposition of the two computational basis states, $|0\\rangle$ and $|1\\rangle$:\n",
        "\n",
        "$$|\\psi\\rangle = \\alpha|0\\rangle + \\beta|1\\rangle$$\n",
        "\n",
        "Here, $\\alpha$ and $\\beta$ are complex numbers known as **probability amplitudes**.\n",
        "\n",
        "The vector representation of the basis states are:\n",
        "$|0\\rangle = \\begin{pmatrix} 1 \\\\ 0 \\end{pmatrix}$ and $|1\\rangle = \\begin{pmatrix} 0 \\\\ 1 \\end{pmatrix}$\n",
        "\n",
        "Therefore, the state $|\\psi\\rangle$ can be written as a column vector in $\\mathbb{C}^2$:\n",
        "\n",
        "$$|\\psi\\rangle = \\begin{pmatrix} \\alpha \\\\ \\beta \\end{pmatrix}$$\n",
        "\n",
        "### **Normalization Condition**\n",
        "The squares of the magnitudes of the probability amplitudes must sum to 1, representing the total probability of finding the qubit in one of its basis states upon measurement.\n",
        "\n",
        "$$|\\alpha|^2 + |\\beta|^2 = 1$$\n",
        "\n"
      ],
      "metadata": {
        "id": "3llbNqevUa-0"
      }
    },
    {
      "cell_type": "markdown",
      "source": [
        "---\n",
        "\n",
        "## **2. The Two-Qubit State**\n",
        "\n",
        "A two-qubit system is described by the tensor product of the Hilbert spaces of two individual qubits. This results in a 4-dimensional Hilbert space.\n",
        "\n",
        "$$\\mathcal{H}_{\\text{total}} = \\mathcal{H}_2 \\otimes \\mathcal{H}_2 = \\mathcal{H}_4$$\n",
        "\n",
        "### **Computational Basis**\n",
        "The computational basis for a two-qubit system is formed by the tensor products of the single-qubit basis states, resulting in four orthogonal states:\n",
        "\n",
        "$$|00\\rangle, |01\\rangle, |10\\rangle, |11\\rangle$$\n",
        "\n",
        "### **State Vector**\n",
        "A general two-qubit state $|\\psi\\rangle$ is a superposition of these four basis states:\n",
        "\n",
        "$$|\\psi\\rangle = a_{00}|00\\rangle + a_{01}|01\\rangle + a_{10}|10\\rangle + a_{11}|11\\rangle$$\n",
        "\n",
        "In vector form, this state is represented by a column vector in $\\mathbb{C}^4$:\n",
        "\n",
        "$$|\\psi\\rangle = \\begin{pmatrix} a_{00} \\\\ a_{01} \\\\ a_{10} \\\\ a_{11} \\end{pmatrix}$$\n",
        "\n",
        "### **Normalization Condition**\n",
        "Similar to the single-qubit case, the total probability must be 1. The normalization condition for a two-qubit state is:\n",
        "\n",
        "$$|a_{00}|^2 + |a_{01}|^2 + |a_{10}|^2 + |a_{11}|^2 = 1$$"
      ],
      "metadata": {
        "id": "vhrSRaMhWV1q"
      }
    },
    {
      "cell_type": "markdown",
      "source": [
        "# Step 1: Provide the input array\n"
      ],
      "metadata": {
        "id": "yqMxD_hVfpeb"
      }
    },
    {
      "cell_type": "code",
      "source": [
        "import numpy as np\n",
        "\n",
        "complex_array = np.array(input(\"Enter complex numbers separated by spaces\\nfor example:  1+2j 3-4j 5j 6  \").split(), dtype=complex)\n",
        "\n",
        "# Display the result\n",
        "print(\"\\nInput array:\")\n",
        "print(complex_array)"
      ],
      "metadata": {
        "colab": {
          "base_uri": "https://localhost:8080/"
        },
        "id": "SdvkuR1WYkzZ",
        "outputId": "ad567134-905a-45de-bf13-4c3c80613488"
      },
      "execution_count": 43,
      "outputs": [
        {
          "output_type": "stream",
          "name": "stdout",
          "text": [
            "Enter complex numbers separated by spaces\n",
            "for example:  1+2j 3-4j 5j 6   0 7j 8 3\n",
            "\n",
            "Input array:\n",
            "[0.+0.j 0.+7.j 8.+0.j 3.+0.j]\n"
          ]
        }
      ]
    },
    {
      "cell_type": "markdown",
      "source": [
        "#Step 2: Applying Normalisation"
      ],
      "metadata": {
        "id": "Sg0d_U9qblot"
      }
    },
    {
      "cell_type": "code",
      "source": [
        "norm = np.sqrt(np.sum(np.abs(complex_array)**2))\n",
        "if norm == 0:\n",
        "    raise ValueError(\"Invalid state: all amplitudes are zero.\")\n",
        "normalized_state = complex_array / norm"
      ],
      "metadata": {
        "id": "WzCy8rmrZ2Mj"
      },
      "execution_count": 44,
      "outputs": []
    },
    {
      "cell_type": "markdown",
      "source": [
        "#Step 3: Checking for Dimentionality and Normalisation"
      ],
      "metadata": {
        "id": "YVyaGUx5dghY"
      }
    },
    {
      "cell_type": "code",
      "source": [
        "if len(normalized_state) == 4 :\n",
        "  print(\"✅ Dimensionality check passed.\")\n",
        "else:\n",
        "  print(f\"❌ Dimensionality check failed! Found {len(normalized_state)} components, expected 4.\")\n",
        "\n",
        "if np.isclose(np.sqrt(np.sum(np.abs(normalized_state)**2)),1.0) :\n",
        "  print(\"✅ State is normalized.\")\n",
        "else:\n",
        "  print(f\"❌ State is not normalized!\")\n"
      ],
      "metadata": {
        "colab": {
          "base_uri": "https://localhost:8080/"
        },
        "id": "DO53KRgca5Gf",
        "outputId": "db6e63bd-2b8f-468a-b79b-fe83b395587c"
      },
      "execution_count": 45,
      "outputs": [
        {
          "output_type": "stream",
          "name": "stdout",
          "text": [
            "✅ Dimensionality check passed.\n",
            "✅ State is normalized.\n"
          ]
        }
      ]
    },
    {
      "cell_type": "markdown",
      "source": [
        "# Step 4: Printing final state vector\n"
      ],
      "metadata": {
        "id": "lws4jCfufgoF"
      }
    },
    {
      "cell_type": "code",
      "source": [
        "basis = [\"|00⟩\", \"|01⟩\", \"|10⟩\", \"|11⟩\"]\n",
        "terms = []\n",
        "\n",
        "for amp, label in zip(normalized_state, basis):\n",
        "    real, imag = amp.real, amp.imag\n",
        "    if np.isclose(abs(amp), 0.0):\n",
        "        continue  # skip zero terms\n",
        "    if np.isclose(imag, 0):\n",
        "        term = f\"{real:.2f}{label}\"\n",
        "    elif np.isclose(real, 0):\n",
        "        term = f\"{imag:.2f}i{label}\"\n",
        "    else:\n",
        "        sign = \"+\" if imag >= 0 else \"-\"\n",
        "        term = f\"({real:.2f}{sign}{abs(imag):.2f}i){label}\"\n",
        "    terms.append(term)\n",
        "\n",
        "final_state = \" + \".join(terms) if terms else \"0\"\n",
        "print(f\"|ψ⟩ = {final_state}\")"
      ],
      "metadata": {
        "colab": {
          "base_uri": "https://localhost:8080/"
        },
        "id": "1veZmWvbcHzm",
        "outputId": "1e38aaca-8d16-455b-ff3c-f680fe370240"
      },
      "execution_count": 46,
      "outputs": [
        {
          "output_type": "stream",
          "name": "stdout",
          "text": [
            "|ψ⟩ = 0.63i|01⟩ + 0.72|10⟩ + 0.27|11⟩\n"
          ]
        }
      ]
    },
    {
      "cell_type": "code",
      "source": [],
      "metadata": {
        "id": "oyH00y2wePaE"
      },
      "execution_count": null,
      "outputs": []
    }
  ]
}