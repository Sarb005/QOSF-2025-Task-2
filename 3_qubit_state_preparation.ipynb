{
  "nbformat": 4,
  "nbformat_minor": 0,
  "metadata": {
    "colab": {
      "provenance": []
    },
    "kernelspec": {
      "name": "python3",
      "display_name": "Python 3"
    },
    "language_info": {
      "name": "python"
    }
  },
  "cells": [
    {
      "cell_type": "markdown",
      "source": [
        "# **The Three-Qubit State (The Qubit Triplet)**\n",
        "\n",
        "\n",
        "---\n",
        "\n",
        "### **Hilbert Space**\n",
        "The total Hilbert space is the tensor product of the three individual qubit spaces:\n",
        "\n",
        "$$\\mathcal{H}_{\\text{total}} = \\mathcal{H}_2 \\otimes \\mathcal{H}_2 \\otimes \\mathcal{H}_2 = \\mathcal{H}_8$$\n",
        "\n",
        "### **Computational Basis**\n",
        "There are $2^3 = 8$ orthogonal basis states. These states correspond to all possible three-bit binary strings (from $000_2$ to $111_2$, or $0$ to $7$ in decimal):\n",
        "\n",
        "$$|000\\rangle, |001\\rangle, |010\\rangle, |011\\rangle, |100\\rangle, |101\\rangle, |110\\rangle, |111\\rangle$$\n",
        "\n",
        "### **General State Vector**\n",
        "A general three-qubit state, $|\\Psi\\rangle$, is a superposition of these eight basis states:\n",
        "\n",
        "$$|\\Psi\\rangle = a_0|000\\rangle + a_1|001\\rangle + a_2|010\\rangle + a_3|011\\rangle + a_4|100\\rangle + a_5|101\\rangle + a_6|110\\rangle + a_7|111\\rangle$$\n",
        "\n",
        "The state is represented by a column vector in $\\mathbb{C}^8$:\n",
        "$$|\\Psi\\rangle = \\begin{pmatrix} a_0 \\\\ a_1 \\\\ a_2 \\\\ a_3 \\\\ a_4 \\\\ a_5 \\\\ a_6 \\\\ a_7 \\end{pmatrix}$$\n",
        "\n",
        "### **Normalization Condition**\n",
        "The **normalization condition** ensures the total probability of all possible measurement outcomes is unity:\n",
        "\n",
        "$$\\sum_{i=0}^{7} |a_i|^2 = |a_0|^2 + |a_1|^2 + |a_2|^2 + |a_3|^2 + |a_4|^2 + |a_5|^2 + |a_6|^2 + |a_7|^2 = 1$$"
      ],
      "metadata": {
        "id": "bjIuO0J0z1ed"
      }
    },
    {
      "cell_type": "markdown",
      "source": [
        "# Step 1: Provide the input array\n"
      ],
      "metadata": {
        "id": "yXPoiCpe0Wjr"
      }
    },
    {
      "cell_type": "code",
      "source": [
        "import numpy as np\n",
        "\n",
        "complex_array = np.array(input(\"Enter complex numbers separated by spaces\\nfor example:  1+2j 3-4j 5j 6 0.5 2 8j 0  \").split(), dtype=complex)\n",
        "\n",
        "# Display the result\n",
        "print(\"\\nInput array:\")\n",
        "print(complex_array)"
      ],
      "metadata": {
        "colab": {
          "base_uri": "https://localhost:8080/"
        },
        "id": "k3XLXLm70XKL",
        "outputId": "53cfc679-f4ba-4101-a9cd-45be396a47d6"
      },
      "execution_count": 10,
      "outputs": [
        {
          "output_type": "stream",
          "name": "stdout",
          "text": [
            "Enter complex numbers separated by spaces\n",
            "for example:  1+2j 3-4j 5j 6 0.5 2 8j 0  1+2j 3-4j 5j 6 0.5 2 8j 5\n",
            "\n",
            "Input array:\n",
            "[1. +2.j 3. -4.j 0. +5.j 6. +0.j 0.5+0.j 2. +0.j 0. +8.j 5. +0.j]\n"
          ]
        }
      ]
    },
    {
      "cell_type": "markdown",
      "source": [
        "#Step 2: Applying Normalisation"
      ],
      "metadata": {
        "id": "evOrsepN0al3"
      }
    },
    {
      "cell_type": "code",
      "source": [
        "norm = np.sqrt(np.sum(np.abs(complex_array)**2))\n",
        "if norm == 0:\n",
        "    raise ValueError(\"Invalid state: all amplitudes are zero.\")\n",
        "normalized_state = complex_array / norm"
      ],
      "metadata": {
        "id": "1jE11kr70dVq"
      },
      "execution_count": 11,
      "outputs": []
    },
    {
      "cell_type": "markdown",
      "source": [
        "#Step 3: Checking for Dimentionality and Normalisation"
      ],
      "metadata": {
        "id": "_xj5zeqs0lw8"
      }
    },
    {
      "cell_type": "code",
      "source": [
        "if len(normalized_state) == 8 :\n",
        "  print(\"✅ Dimensionality check passed.\")\n",
        "else:\n",
        "  print(f\"❌ Dimensionality check failed! Found {len(normalized_state)} components, expected 8.\")\n",
        "\n",
        "if np.isclose(np.sqrt(np.sum(np.abs(normalized_state)**2)),1.0) :\n",
        "  print(\"✅ State is normalized.\")\n",
        "else:\n",
        "  print(f\"❌ State is not normalized!\")\n"
      ],
      "metadata": {
        "colab": {
          "base_uri": "https://localhost:8080/"
        },
        "id": "EgSrdI7p0pCa",
        "outputId": "ab080a17-d044-4689-82f9-b164da9683b6"
      },
      "execution_count": 12,
      "outputs": [
        {
          "output_type": "stream",
          "name": "stdout",
          "text": [
            "✅ Dimensionality check passed.\n",
            "✅ State is normalized.\n"
          ]
        }
      ]
    },
    {
      "cell_type": "markdown",
      "source": [
        "# Step 4: Printing final state vector\n"
      ],
      "metadata": {
        "id": "oVKdjVyA0zHf"
      }
    },
    {
      "cell_type": "code",
      "source": [
        "basis = [\"|000⟩\",\"|001⟩\",\"|010⟩\",\"|011⟩\",\"|100⟩\",\"|101⟩\",\"|110⟩\",\"|111⟩\"]\n",
        "terms = []\n",
        "\n",
        "for amp, label in zip(normalized_state, basis):\n",
        "    real, imag = amp.real, amp.imag\n",
        "    if np.isclose(abs(amp), 0.0):\n",
        "        continue\n",
        "    if np.isclose(imag, 0):\n",
        "        term = f\"{real:.2f}{label}\"\n",
        "    elif np.isclose(real, 0):\n",
        "        term = f\"{imag:.2f}i{label}\"\n",
        "    else:\n",
        "        sign = \"+\" if imag >= 0 else \"-\"\n",
        "        term = f\"({real:.2f}{sign}{abs(imag):.2f}i){label}\"\n",
        "    terms.append(term)\n",
        "\n",
        "final_state = \" + \".join(terms) if terms else \"0\"\n",
        "print(f\"|ψ⟩ = {final_state}\")"
      ],
      "metadata": {
        "colab": {
          "base_uri": "https://localhost:8080/"
        },
        "id": "08nuZI6r024n",
        "outputId": "c06ee639-d87f-4003-dba4-f9b4809f88d8"
      },
      "execution_count": 13,
      "outputs": [
        {
          "output_type": "stream",
          "name": "stdout",
          "text": [
            "|ψ⟩ = (0.07+0.15i)|000⟩ + (0.22-0.29i)|001⟩ + 0.37i|010⟩ + 0.44|011⟩ + 0.04|100⟩ + 0.15|101⟩ + 0.59i|110⟩ + 0.37|111⟩\n"
          ]
        }
      ]
    }
  ]
}